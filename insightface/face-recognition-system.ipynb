{
 "cells": [
  {
   "cell_type": "code",
   "execution_count": 1,
   "metadata": {},
   "outputs": [],
   "source": [
    "import os\n",
    "import cv2\n",
    "import numpy as np\n",
    "import pandas as pd\n",
    "\n",
    "from insightface.app import FaceAnalysis"
   ]
  },
  {
   "cell_type": "code",
   "execution_count": 2,
   "metadata": {},
   "outputs": [
    {
     "name": "stdout",
     "output_type": "stream",
     "text": [
      "Applied providers: ['CPUExecutionProvider'], with options: {'CPUExecutionProvider': {}}\n",
      "find model: models\\buffalo_sc\\det_500m.onnx detection [1, 3, '?', '?'] 127.5 128.0\n",
      "Applied providers: ['CPUExecutionProvider'], with options: {'CPUExecutionProvider': {}}\n",
      "find model: models\\buffalo_sc\\w600k_mbf.onnx recognition ['None', 3, 112, 112] 127.5 127.5\n",
      "set det-size: (640, 640)\n"
     ]
    }
   ],
   "source": [
    "faceapp = FaceAnalysis(name='buffalo_sc', root='', providers=['CPUExecutionProvider'])\n",
    "faceapp.prepare(ctx_id=0, det_size=(640, 640), det_thresh=0.5)"
   ]
  },
  {
   "cell_type": "markdown",
   "metadata": {},
   "source": [
    "#### Extract Facial Features and Labels"
   ]
  },
  {
   "cell_type": "code",
   "execution_count": 7,
   "metadata": {},
   "outputs": [],
   "source": [
    "import re # regular expression"
   ]
  },
  {
   "cell_type": "code",
   "execution_count": 8,
   "metadata": {},
   "outputs": [],
   "source": [
    "def clean_name(string):\n",
    "  string = re.sub(r'[^A-Za-z]', ' ', string)\n",
    "  string = string.title()\n",
    "  return string"
   ]
  },
  {
   "cell_type": "code",
   "execution_count": 14,
   "metadata": {},
   "outputs": [],
   "source": [
    "person_info = []\n",
    "listdir = os.listdir('../data/images')\n",
    "for folder_name in listdir:\n",
    "  role, name = folder_name.split('-')\n",
    "  name = clean_name(name)\n",
    "\n",
    "  # path of each image in respective folder\n",
    "  img_files = os.listdir(path=f'../data/images/{folder_name}')\n",
    "  for file in img_files:\n",
    "    path = f'../data/images/{folder_name}/{file}'\n",
    "    # step-1: read the image\n",
    "    img_arr = cv2.imread(path)\n",
    "\n",
    "    # step-2: get the info\n",
    "    result = faceapp.get(img_arr, max_num=1)\n",
    "    if len(result) > 0: \n",
    "      # step-3: extract facial embdding\n",
    "      res = result[0]\n",
    "      embedding = res['embedding']\n",
    "\n",
    "      # step-4: save all info name, role, embedding in a list\n",
    "      person_info.append([name, role, embedding])"
   ]
  },
  {
   "cell_type": "code",
   "execution_count": 17,
   "metadata": {},
   "outputs": [
    {
     "data": {
      "text/html": [
       "<div>\n",
       "<style scoped>\n",
       "    .dataframe tbody tr th:only-of-type {\n",
       "        vertical-align: middle;\n",
       "    }\n",
       "\n",
       "    .dataframe tbody tr th {\n",
       "        vertical-align: top;\n",
       "    }\n",
       "\n",
       "    .dataframe thead th {\n",
       "        text-align: right;\n",
       "    }\n",
       "</style>\n",
       "<table border=\"1\" class=\"dataframe\">\n",
       "  <thead>\n",
       "    <tr style=\"text-align: right;\">\n",
       "      <th></th>\n",
       "      <th>Name</th>\n",
       "      <th>Role</th>\n",
       "      <th>Facial_Features</th>\n",
       "    </tr>\n",
       "  </thead>\n",
       "  <tbody>\n",
       "    <tr>\n",
       "      <th>0</th>\n",
       "      <td>Angelina Jolie</td>\n",
       "      <td>student</td>\n",
       "      <td>[-0.8410335, 1.6623635, -0.745449, -2.138221, ...</td>\n",
       "    </tr>\n",
       "    <tr>\n",
       "      <th>1</th>\n",
       "      <td>Angelina Jolie</td>\n",
       "      <td>student</td>\n",
       "      <td>[0.09012404, -0.4169108, -0.37650695, 0.424011...</td>\n",
       "    </tr>\n",
       "    <tr>\n",
       "      <th>2</th>\n",
       "      <td>Angelina Jolie</td>\n",
       "      <td>student</td>\n",
       "      <td>[0.86389506, 0.32952017, 0.05781859, -1.453824...</td>\n",
       "    </tr>\n",
       "    <tr>\n",
       "      <th>3</th>\n",
       "      <td>Angelina Jolie</td>\n",
       "      <td>student</td>\n",
       "      <td>[1.6630238, 1.161926, -0.4108489, -2.6416948, ...</td>\n",
       "    </tr>\n",
       "    <tr>\n",
       "      <th>4</th>\n",
       "      <td>Angelina Jolie</td>\n",
       "      <td>student</td>\n",
       "      <td>[0.864314, 0.9437618, 0.4265172, -1.1836909, -...</td>\n",
       "    </tr>\n",
       "    <tr>\n",
       "      <th>5</th>\n",
       "      <td>Angelina Jolie</td>\n",
       "      <td>student</td>\n",
       "      <td>[0.40983105, 1.1813736, -0.9961994, -1.4018284...</td>\n",
       "    </tr>\n",
       "    <tr>\n",
       "      <th>6</th>\n",
       "      <td>Angelina Jolie</td>\n",
       "      <td>student</td>\n",
       "      <td>[0.42182076, 2.0830736, 1.0647428, -2.273447, ...</td>\n",
       "    </tr>\n",
       "    <tr>\n",
       "      <th>7</th>\n",
       "      <td>Angelina Jolie</td>\n",
       "      <td>student</td>\n",
       "      <td>[0.3949412, 0.84420955, -0.615458, -2.105093, ...</td>\n",
       "    </tr>\n",
       "    <tr>\n",
       "      <th>8</th>\n",
       "      <td>Angelina Jolie</td>\n",
       "      <td>student</td>\n",
       "      <td>[1.0928565, 1.1707087, -0.2880756, -2.0103226,...</td>\n",
       "    </tr>\n",
       "    <tr>\n",
       "      <th>9</th>\n",
       "      <td>Angelina Jolie</td>\n",
       "      <td>student</td>\n",
       "      <td>[-0.63545597, 1.7897248, 0.5982856, -3.550097,...</td>\n",
       "    </tr>\n",
       "    <tr>\n",
       "      <th>10</th>\n",
       "      <td>Chris Evans</td>\n",
       "      <td>student</td>\n",
       "      <td>[1.8036056, -2.3007426, -1.5808954, -1.1026118...</td>\n",
       "    </tr>\n",
       "    <tr>\n",
       "      <th>11</th>\n",
       "      <td>Chris Evans</td>\n",
       "      <td>student</td>\n",
       "      <td>[1.7493404, -2.120471, -0.15235159, -0.9059930...</td>\n",
       "    </tr>\n",
       "    <tr>\n",
       "      <th>12</th>\n",
       "      <td>Chris Evans</td>\n",
       "      <td>student</td>\n",
       "      <td>[0.44954258, -1.6314547, -0.95116156, -1.54259...</td>\n",
       "    </tr>\n",
       "    <tr>\n",
       "      <th>13</th>\n",
       "      <td>Chris Evans</td>\n",
       "      <td>student</td>\n",
       "      <td>[0.85883987, -1.1002166, -0.77001214, -1.49178...</td>\n",
       "    </tr>\n",
       "    <tr>\n",
       "      <th>14</th>\n",
       "      <td>Chris Evans</td>\n",
       "      <td>student</td>\n",
       "      <td>[-1.1621715, -0.68589675, -0.43853605, -2.8765...</td>\n",
       "    </tr>\n",
       "    <tr>\n",
       "      <th>15</th>\n",
       "      <td>Chris Evans</td>\n",
       "      <td>student</td>\n",
       "      <td>[0.35467726, -0.69755995, -0.3004976, -1.91148...</td>\n",
       "    </tr>\n",
       "    <tr>\n",
       "      <th>16</th>\n",
       "      <td>Chris Evans</td>\n",
       "      <td>student</td>\n",
       "      <td>[1.3098732, -2.090489, -1.037829, -1.797128, 2...</td>\n",
       "    </tr>\n",
       "    <tr>\n",
       "      <th>17</th>\n",
       "      <td>Chris Evans</td>\n",
       "      <td>student</td>\n",
       "      <td>[0.9707996, -1.7576605, -1.3096284, -1.0258203...</td>\n",
       "    </tr>\n",
       "    <tr>\n",
       "      <th>18</th>\n",
       "      <td>Chris Evans</td>\n",
       "      <td>student</td>\n",
       "      <td>[0.59196013, -1.4145615, -0.6702813, -1.311277...</td>\n",
       "    </tr>\n",
       "    <tr>\n",
       "      <th>19</th>\n",
       "      <td>Chris Evans</td>\n",
       "      <td>student</td>\n",
       "      <td>[0.27377757, -0.8834741, -0.56312096, -0.63476...</td>\n",
       "    </tr>\n",
       "    <tr>\n",
       "      <th>20</th>\n",
       "      <td>Scarlett Johansson</td>\n",
       "      <td>student</td>\n",
       "      <td>[0.15684888, -0.15252304, -1.1749347, 0.223224...</td>\n",
       "    </tr>\n",
       "    <tr>\n",
       "      <th>21</th>\n",
       "      <td>Scarlett Johansson</td>\n",
       "      <td>student</td>\n",
       "      <td>[0.9988017, -0.3464318, -1.6072202, -0.3437336...</td>\n",
       "    </tr>\n",
       "    <tr>\n",
       "      <th>22</th>\n",
       "      <td>Scarlett Johansson</td>\n",
       "      <td>student</td>\n",
       "      <td>[0.41819817, -1.2333512, -1.1655853, 0.3192767...</td>\n",
       "    </tr>\n",
       "    <tr>\n",
       "      <th>23</th>\n",
       "      <td>Scarlett Johansson</td>\n",
       "      <td>student</td>\n",
       "      <td>[0.74071056, -0.2172078, -2.1699548, -0.382094...</td>\n",
       "    </tr>\n",
       "    <tr>\n",
       "      <th>24</th>\n",
       "      <td>Scarlett Johansson</td>\n",
       "      <td>student</td>\n",
       "      <td>[-0.2931065, -0.027625293, -3.0639057, -0.0226...</td>\n",
       "    </tr>\n",
       "    <tr>\n",
       "      <th>25</th>\n",
       "      <td>Scarlett Johansson</td>\n",
       "      <td>student</td>\n",
       "      <td>[0.9100211, -0.7951274, -2.354409, 0.8837526, ...</td>\n",
       "    </tr>\n",
       "    <tr>\n",
       "      <th>26</th>\n",
       "      <td>Scarlett Johansson</td>\n",
       "      <td>student</td>\n",
       "      <td>[0.5179118, -0.70606494, -1.5367962, 0.9526467...</td>\n",
       "    </tr>\n",
       "    <tr>\n",
       "      <th>27</th>\n",
       "      <td>Scarlett Johansson</td>\n",
       "      <td>student</td>\n",
       "      <td>[-0.97057724, -0.09699072, -2.1180046, 1.34241...</td>\n",
       "    </tr>\n",
       "    <tr>\n",
       "      <th>28</th>\n",
       "      <td>Scarlett Johansson</td>\n",
       "      <td>student</td>\n",
       "      <td>[0.87918776, -0.58773625, 0.08178866, 0.654351...</td>\n",
       "    </tr>\n",
       "    <tr>\n",
       "      <th>29</th>\n",
       "      <td>Scarlett Johansson</td>\n",
       "      <td>student</td>\n",
       "      <td>[-1.4453042, -0.7219956, -1.7936003, 0.79554, ...</td>\n",
       "    </tr>\n",
       "    <tr>\n",
       "      <th>30</th>\n",
       "      <td>Barack Obama</td>\n",
       "      <td>teacher</td>\n",
       "      <td>[0.8677803, -0.26745942, 0.07078171, -0.144091...</td>\n",
       "    </tr>\n",
       "    <tr>\n",
       "      <th>31</th>\n",
       "      <td>Barack Obama</td>\n",
       "      <td>teacher</td>\n",
       "      <td>[1.6958617, -0.99367774, -0.22316897, -1.74935...</td>\n",
       "    </tr>\n",
       "    <tr>\n",
       "      <th>32</th>\n",
       "      <td>Barack Obama</td>\n",
       "      <td>teacher</td>\n",
       "      <td>[0.048864223, -0.49350148, -0.19512153, -1.123...</td>\n",
       "    </tr>\n",
       "    <tr>\n",
       "      <th>33</th>\n",
       "      <td>Barack Obama</td>\n",
       "      <td>teacher</td>\n",
       "      <td>[0.7236616, -0.9442341, -0.08801663, -2.404883...</td>\n",
       "    </tr>\n",
       "    <tr>\n",
       "      <th>34</th>\n",
       "      <td>Barack Obama</td>\n",
       "      <td>teacher</td>\n",
       "      <td>[0.59006596, 0.43526185, 0.35919923, -2.804093...</td>\n",
       "    </tr>\n",
       "    <tr>\n",
       "      <th>35</th>\n",
       "      <td>Barack Obama</td>\n",
       "      <td>teacher</td>\n",
       "      <td>[0.32973936, -1.2769604, 0.40178412, -1.358962...</td>\n",
       "    </tr>\n",
       "    <tr>\n",
       "      <th>36</th>\n",
       "      <td>Barack Obama</td>\n",
       "      <td>teacher</td>\n",
       "      <td>[-0.065288104, 0.015072167, -0.85322857, -0.32...</td>\n",
       "    </tr>\n",
       "    <tr>\n",
       "      <th>37</th>\n",
       "      <td>Barack Obama</td>\n",
       "      <td>teacher</td>\n",
       "      <td>[2.2780032, -1.3971311, 1.5631793, -1.4795663,...</td>\n",
       "    </tr>\n",
       "    <tr>\n",
       "      <th>38</th>\n",
       "      <td>Barack Obama</td>\n",
       "      <td>teacher</td>\n",
       "      <td>[1.6047919, -0.24347691, 0.36099565, 0.0407241...</td>\n",
       "    </tr>\n",
       "    <tr>\n",
       "      <th>39</th>\n",
       "      <td>Barack Obama</td>\n",
       "      <td>teacher</td>\n",
       "      <td>[1.4112138, -0.41757023, -0.4472475, -1.443501...</td>\n",
       "    </tr>\n",
       "    <tr>\n",
       "      <th>40</th>\n",
       "      <td>Morgan Freeman</td>\n",
       "      <td>teacher</td>\n",
       "      <td>[0.5251215, -0.52591586, -0.5172633, 0.82646, ...</td>\n",
       "    </tr>\n",
       "    <tr>\n",
       "      <th>41</th>\n",
       "      <td>Morgan Freeman</td>\n",
       "      <td>teacher</td>\n",
       "      <td>[0.7933403, -0.4821412, -1.7259965, 0.6513129,...</td>\n",
       "    </tr>\n",
       "    <tr>\n",
       "      <th>42</th>\n",
       "      <td>Morgan Freeman</td>\n",
       "      <td>teacher</td>\n",
       "      <td>[-0.1321992, 0.041241705, 0.62798566, 0.683336...</td>\n",
       "    </tr>\n",
       "    <tr>\n",
       "      <th>43</th>\n",
       "      <td>Morgan Freeman</td>\n",
       "      <td>teacher</td>\n",
       "      <td>[0.4863371, -0.47723857, -1.0034816, 1.2772816...</td>\n",
       "    </tr>\n",
       "    <tr>\n",
       "      <th>44</th>\n",
       "      <td>Morgan Freeman</td>\n",
       "      <td>teacher</td>\n",
       "      <td>[1.2949812, -0.9476242, -0.13746858, 1.0461172...</td>\n",
       "    </tr>\n",
       "    <tr>\n",
       "      <th>45</th>\n",
       "      <td>Morgan Freeman</td>\n",
       "      <td>teacher</td>\n",
       "      <td>[-0.27421805, -0.27516162, -0.841787, 1.279445...</td>\n",
       "    </tr>\n",
       "    <tr>\n",
       "      <th>46</th>\n",
       "      <td>Morgan Freeman</td>\n",
       "      <td>teacher</td>\n",
       "      <td>[0.7715305, -0.6374655, 0.17158228, 0.55102235...</td>\n",
       "    </tr>\n",
       "    <tr>\n",
       "      <th>47</th>\n",
       "      <td>Morgan Freeman</td>\n",
       "      <td>teacher</td>\n",
       "      <td>[1.2277228, -1.564395, 0.4300081, 0.97241783, ...</td>\n",
       "    </tr>\n",
       "    <tr>\n",
       "      <th>48</th>\n",
       "      <td>Morgan Freeman</td>\n",
       "      <td>teacher</td>\n",
       "      <td>[-0.26069024, 0.020205945, -0.41906506, 1.6750...</td>\n",
       "    </tr>\n",
       "    <tr>\n",
       "      <th>49</th>\n",
       "      <td>Morgan Freeman</td>\n",
       "      <td>teacher</td>\n",
       "      <td>[0.42433766, -1.3480741, -0.6571427, 1.7235192...</td>\n",
       "    </tr>\n",
       "  </tbody>\n",
       "</table>\n",
       "</div>"
      ],
      "text/plain": [
       "                  Name     Role  \\\n",
       "0       Angelina Jolie  student   \n",
       "1       Angelina Jolie  student   \n",
       "2       Angelina Jolie  student   \n",
       "3       Angelina Jolie  student   \n",
       "4       Angelina Jolie  student   \n",
       "5       Angelina Jolie  student   \n",
       "6       Angelina Jolie  student   \n",
       "7       Angelina Jolie  student   \n",
       "8       Angelina Jolie  student   \n",
       "9       Angelina Jolie  student   \n",
       "10         Chris Evans  student   \n",
       "11         Chris Evans  student   \n",
       "12         Chris Evans  student   \n",
       "13         Chris Evans  student   \n",
       "14         Chris Evans  student   \n",
       "15         Chris Evans  student   \n",
       "16         Chris Evans  student   \n",
       "17         Chris Evans  student   \n",
       "18         Chris Evans  student   \n",
       "19         Chris Evans  student   \n",
       "20  Scarlett Johansson  student   \n",
       "21  Scarlett Johansson  student   \n",
       "22  Scarlett Johansson  student   \n",
       "23  Scarlett Johansson  student   \n",
       "24  Scarlett Johansson  student   \n",
       "25  Scarlett Johansson  student   \n",
       "26  Scarlett Johansson  student   \n",
       "27  Scarlett Johansson  student   \n",
       "28  Scarlett Johansson  student   \n",
       "29  Scarlett Johansson  student   \n",
       "30        Barack Obama  teacher   \n",
       "31        Barack Obama  teacher   \n",
       "32        Barack Obama  teacher   \n",
       "33        Barack Obama  teacher   \n",
       "34        Barack Obama  teacher   \n",
       "35        Barack Obama  teacher   \n",
       "36        Barack Obama  teacher   \n",
       "37        Barack Obama  teacher   \n",
       "38        Barack Obama  teacher   \n",
       "39        Barack Obama  teacher   \n",
       "40      Morgan Freeman  teacher   \n",
       "41      Morgan Freeman  teacher   \n",
       "42      Morgan Freeman  teacher   \n",
       "43      Morgan Freeman  teacher   \n",
       "44      Morgan Freeman  teacher   \n",
       "45      Morgan Freeman  teacher   \n",
       "46      Morgan Freeman  teacher   \n",
       "47      Morgan Freeman  teacher   \n",
       "48      Morgan Freeman  teacher   \n",
       "49      Morgan Freeman  teacher   \n",
       "\n",
       "                                      Facial_Features  \n",
       "0   [-0.8410335, 1.6623635, -0.745449, -2.138221, ...  \n",
       "1   [0.09012404, -0.4169108, -0.37650695, 0.424011...  \n",
       "2   [0.86389506, 0.32952017, 0.05781859, -1.453824...  \n",
       "3   [1.6630238, 1.161926, -0.4108489, -2.6416948, ...  \n",
       "4   [0.864314, 0.9437618, 0.4265172, -1.1836909, -...  \n",
       "5   [0.40983105, 1.1813736, -0.9961994, -1.4018284...  \n",
       "6   [0.42182076, 2.0830736, 1.0647428, -2.273447, ...  \n",
       "7   [0.3949412, 0.84420955, -0.615458, -2.105093, ...  \n",
       "8   [1.0928565, 1.1707087, -0.2880756, -2.0103226,...  \n",
       "9   [-0.63545597, 1.7897248, 0.5982856, -3.550097,...  \n",
       "10  [1.8036056, -2.3007426, -1.5808954, -1.1026118...  \n",
       "11  [1.7493404, -2.120471, -0.15235159, -0.9059930...  \n",
       "12  [0.44954258, -1.6314547, -0.95116156, -1.54259...  \n",
       "13  [0.85883987, -1.1002166, -0.77001214, -1.49178...  \n",
       "14  [-1.1621715, -0.68589675, -0.43853605, -2.8765...  \n",
       "15  [0.35467726, -0.69755995, -0.3004976, -1.91148...  \n",
       "16  [1.3098732, -2.090489, -1.037829, -1.797128, 2...  \n",
       "17  [0.9707996, -1.7576605, -1.3096284, -1.0258203...  \n",
       "18  [0.59196013, -1.4145615, -0.6702813, -1.311277...  \n",
       "19  [0.27377757, -0.8834741, -0.56312096, -0.63476...  \n",
       "20  [0.15684888, -0.15252304, -1.1749347, 0.223224...  \n",
       "21  [0.9988017, -0.3464318, -1.6072202, -0.3437336...  \n",
       "22  [0.41819817, -1.2333512, -1.1655853, 0.3192767...  \n",
       "23  [0.74071056, -0.2172078, -2.1699548, -0.382094...  \n",
       "24  [-0.2931065, -0.027625293, -3.0639057, -0.0226...  \n",
       "25  [0.9100211, -0.7951274, -2.354409, 0.8837526, ...  \n",
       "26  [0.5179118, -0.70606494, -1.5367962, 0.9526467...  \n",
       "27  [-0.97057724, -0.09699072, -2.1180046, 1.34241...  \n",
       "28  [0.87918776, -0.58773625, 0.08178866, 0.654351...  \n",
       "29  [-1.4453042, -0.7219956, -1.7936003, 0.79554, ...  \n",
       "30  [0.8677803, -0.26745942, 0.07078171, -0.144091...  \n",
       "31  [1.6958617, -0.99367774, -0.22316897, -1.74935...  \n",
       "32  [0.048864223, -0.49350148, -0.19512153, -1.123...  \n",
       "33  [0.7236616, -0.9442341, -0.08801663, -2.404883...  \n",
       "34  [0.59006596, 0.43526185, 0.35919923, -2.804093...  \n",
       "35  [0.32973936, -1.2769604, 0.40178412, -1.358962...  \n",
       "36  [-0.065288104, 0.015072167, -0.85322857, -0.32...  \n",
       "37  [2.2780032, -1.3971311, 1.5631793, -1.4795663,...  \n",
       "38  [1.6047919, -0.24347691, 0.36099565, 0.0407241...  \n",
       "39  [1.4112138, -0.41757023, -0.4472475, -1.443501...  \n",
       "40  [0.5251215, -0.52591586, -0.5172633, 0.82646, ...  \n",
       "41  [0.7933403, -0.4821412, -1.7259965, 0.6513129,...  \n",
       "42  [-0.1321992, 0.041241705, 0.62798566, 0.683336...  \n",
       "43  [0.4863371, -0.47723857, -1.0034816, 1.2772816...  \n",
       "44  [1.2949812, -0.9476242, -0.13746858, 1.0461172...  \n",
       "45  [-0.27421805, -0.27516162, -0.841787, 1.279445...  \n",
       "46  [0.7715305, -0.6374655, 0.17158228, 0.55102235...  \n",
       "47  [1.2277228, -1.564395, 0.4300081, 0.97241783, ...  \n",
       "48  [-0.26069024, 0.020205945, -0.41906506, 1.6750...  \n",
       "49  [0.42433766, -1.3480741, -0.6571427, 1.7235192...  "
      ]
     },
     "execution_count": 17,
     "metadata": {},
     "output_type": "execute_result"
    }
   ],
   "source": [
    "dataframe = pd.DataFrame(person_info, columns=['Name', 'Role', 'Facial_Features'])\n",
    "dataframe # store in redis"
   ]
  },
  {
   "cell_type": "markdown",
   "metadata": {},
   "source": [
    "#### Inference"
   ]
  },
  {
   "cell_type": "code",
   "execution_count": 24,
   "metadata": {},
   "outputs": [],
   "source": [
    "# read test image\n",
    "img_test = cv2.imread('../data/test_images/test_2.jpg')\n",
    "cv2.imshow('test image', img_test)\n",
    "cv2.waitKey(0)\n",
    "cv2.destroyAllWindows()"
   ]
  },
  {
   "cell_type": "code",
   "execution_count": 30,
   "metadata": {},
   "outputs": [],
   "source": [
    "res_test = faceapp.get(img_test, max_num=0)\n",
    "for rt in res_test:\n",
    "  bbox = rt['bbox'].astype(int)\n",
    "  score = int(rt['det_score'] * 100)\n",
    "  embed_test = rt['embedding']"
   ]
  },
  {
   "cell_type": "code",
   "execution_count": 31,
   "metadata": {},
   "outputs": [
    {
     "data": {
      "text/plain": [
       "array([-0.81460756, -1.1385202 , -0.97908545, -1.150692  ,  1.5846984 ,\n",
       "        0.9396069 , -1.0755138 ,  1.176386  ,  1.3322903 ,  1.6345241 ,\n",
       "       -2.123665  ,  1.736643  ,  0.0117197 ,  0.30058706,  0.14717166,\n",
       "       -0.20748596,  0.13353142, -0.30676863,  0.4830975 ,  1.0171186 ,\n",
       "       -0.6403645 , -1.0577049 ,  2.0495815 ,  0.66228634,  0.7519514 ,\n",
       "       -1.3411472 ,  1.1999533 , -0.8141085 , -1.1954961 ,  1.3338745 ,\n",
       "        1.5121737 ,  0.16682452,  0.82251805,  0.3177985 ,  0.077865  ,\n",
       "       -0.04889482,  0.10414684,  0.5998464 ,  0.60888517,  0.13250083,\n",
       "       -1.8985647 ,  1.4158247 ,  0.6816062 , -0.26070988,  0.25268805,\n",
       "       -0.8731782 ,  0.11782408,  1.2077979 ,  0.4981435 , -0.7124546 ,\n",
       "       -1.6257958 ,  0.6434072 , -1.2487804 , -1.9654117 , -0.47745597,\n",
       "       -0.38855305,  2.2300937 ,  0.17762458, -0.2597168 , -0.83510786,\n",
       "       -0.57950866, -0.4991109 ,  0.63522387,  0.3260302 , -1.0649614 ,\n",
       "        0.8708705 ,  0.03718778,  0.569747  ,  1.6455808 ,  0.11940503,\n",
       "        0.03125024, -0.9301937 ,  0.10210526, -1.2468222 ,  0.6906529 ,\n",
       "       -1.1292247 , -0.746999  , -1.2138567 ,  1.0702964 ,  0.55195665,\n",
       "       -1.8986276 , -0.06843433, -0.96546286, -0.6818465 , -0.51381093,\n",
       "       -1.5510142 , -0.7740605 , -0.27619916,  1.451299  ,  0.7968426 ,\n",
       "        1.4965681 ,  0.72568995, -0.9669424 ,  1.0168421 ,  0.92153716,\n",
       "       -1.5255306 ,  0.70527923,  0.61884964, -0.5998289 , -0.10655846,\n",
       "        1.3501816 ,  1.0883056 , -0.99949956, -0.8688071 , -0.13728797,\n",
       "       -1.2437468 , -0.551965  , -1.0726321 ,  0.96683973, -1.8201926 ,\n",
       "        0.42190158,  0.45646793,  1.7068422 ,  2.2535243 , -0.70604336,\n",
       "       -0.30039442, -0.727339  , -1.1901767 ,  0.891842  ,  0.74874747,\n",
       "       -1.1107213 , -1.1584953 ,  0.36001286,  0.22528028,  0.3315364 ,\n",
       "       -0.5401397 ,  1.1835033 ,  0.1900548 ,  0.17212886,  0.71473247,\n",
       "       -0.01175117,  0.9644403 , -1.3025987 ,  0.6274624 , -1.6814002 ,\n",
       "        0.35601947,  0.36634636,  0.2431796 , -0.08016273, -1.1240973 ,\n",
       "       -1.1421134 , -0.4622999 ,  0.23666117, -0.0982198 , -1.7603875 ,\n",
       "        1.1865959 ,  0.49243772, -1.7465293 , -0.10861197, -0.29898798,\n",
       "       -0.8323442 ,  0.5349815 , -0.77242863,  0.923378  , -1.6210091 ,\n",
       "       -0.11306882,  1.0732795 ,  0.32868367,  0.3561927 ,  0.29961088,\n",
       "       -0.63898057, -1.3865278 ,  0.52747786,  1.2736862 , -1.2931932 ,\n",
       "       -1.5096599 , -0.20507339, -0.548841  , -0.9004713 , -0.68923193,\n",
       "        0.28190154, -0.04453033, -0.4010244 ,  0.35871178,  0.08519882,\n",
       "        0.7311336 , -0.36891577,  0.5306407 ,  1.683915  , -0.7084421 ,\n",
       "       -0.51277536,  0.13664955, -0.3408552 ,  0.6647896 , -0.04701275,\n",
       "        0.4645543 , -0.06365013, -0.5304483 ,  1.0274152 , -0.36580488,\n",
       "       -0.28245762,  0.5640344 , -0.28932703,  0.99968326, -1.4592382 ,\n",
       "       -0.28074488,  0.10416059, -0.5648151 ,  2.1439815 , -1.0744047 ,\n",
       "        0.45610923,  1.318415  , -0.02270195,  1.3204472 , -0.73340666,\n",
       "       -1.0473208 , -0.282302  ,  0.04897095, -0.5481036 , -0.2685847 ,\n",
       "        0.15696295, -0.5307011 ,  1.7479303 ,  1.067962  , -1.0028002 ,\n",
       "       -0.7406038 , -0.0343194 ,  0.8210201 , -1.1988367 ,  0.24644268,\n",
       "       -0.8815123 , -1.4593785 ,  0.14015257,  1.1743265 ,  0.6748784 ,\n",
       "       -0.7300998 ,  2.21013   , -0.20135301, -0.17083609,  0.3665084 ,\n",
       "       -0.5587429 , -1.6696763 , -0.338362  ,  1.3071702 , -1.4203446 ,\n",
       "       -0.26046982, -0.1287058 ,  0.19551072, -0.08794481, -0.02126797,\n",
       "       -0.28386813,  0.55270815, -0.5444888 , -0.19495097,  1.7183135 ,\n",
       "       -2.2286093 , -0.7657655 ,  1.6002594 , -1.5200617 ,  0.09898332,\n",
       "       -0.2680599 , -0.38810587,  2.2790043 , -0.42028427, -0.14611557,\n",
       "        0.3605333 , -1.2533703 , -0.27741092,  0.19993007, -0.9874439 ,\n",
       "        0.5783202 , -1.2165756 ,  2.8990722 , -0.04494113,  0.13955204,\n",
       "       -0.8694155 ,  0.28316328, -0.4841364 ,  0.88949275, -0.5380576 ,\n",
       "        0.5106226 , -0.33258605, -1.3114214 ,  0.02791381,  1.6399325 ,\n",
       "        0.3133754 ,  1.0202092 ,  0.7064911 ,  0.87979305, -0.52783346,\n",
       "        0.68999237,  1.8511069 , -1.1906748 , -0.7255963 , -1.2377876 ,\n",
       "        0.07453901, -0.14003003,  1.7448674 ,  0.39829868,  0.89582   ,\n",
       "       -0.65362126, -1.2033442 ,  0.2810161 , -1.5617784 , -0.5934725 ,\n",
       "       -0.813688  ,  0.6049722 , -2.2776673 , -0.1584791 , -0.6882311 ,\n",
       "       -1.0336297 ,  0.15280697,  0.5602659 , -0.80254686,  0.05604351,\n",
       "        0.4578796 ,  0.39190152, -0.19075286,  0.43877172, -0.4184495 ,\n",
       "        0.9090215 ,  0.10842795, -0.17394961,  0.34330654,  1.2151437 ,\n",
       "        0.15751642, -0.91324425, -1.0215937 ,  0.2893467 , -0.9896071 ,\n",
       "        0.9114834 ,  0.06481466,  0.64239156, -0.57502866, -0.76078886,\n",
       "       -0.08451445,  0.9249098 ,  1.200317  , -0.20017438,  1.6379836 ,\n",
       "       -0.60794383, -0.18969676,  0.36061502,  0.10748085,  1.1984662 ,\n",
       "       -0.50187725, -0.06937963,  0.49641183, -1.4038556 , -0.4738091 ,\n",
       "       -0.15154994,  0.87108475,  0.52854323, -0.6156665 , -1.6131437 ,\n",
       "       -0.6490375 , -0.18640423, -0.5799538 ,  0.207497  , -0.6327834 ,\n",
       "        0.43044004, -0.76246166,  0.24873725,  2.2435973 ,  1.1232336 ,\n",
       "        0.8367853 ,  0.28578186, -0.0186123 , -0.3566265 , -1.1063468 ,\n",
       "       -0.6233413 ,  0.8390293 ,  0.11461797,  1.1705358 , -0.45134705,\n",
       "       -0.8490969 , -0.74629855,  0.71858877,  0.16725692, -0.11121136,\n",
       "       -1.240558  ,  2.8578508 ,  0.67456806, -0.8735119 ,  0.4972811 ,\n",
       "        1.1536065 ,  1.929721  , -0.33627868,  0.75602853,  0.36718622,\n",
       "       -0.36199802, -0.37246   ,  0.5623653 ,  0.35892147, -0.92087257,\n",
       "       -0.886521  , -0.4712748 ,  2.054954  ,  0.6055096 ,  1.3849347 ,\n",
       "       -1.3328344 , -0.04140658,  0.46261096, -0.42706692, -0.50313276,\n",
       "        0.8904773 ,  0.30035117, -1.2487984 ,  0.25407845, -0.70290434,\n",
       "       -0.12706533,  1.5185409 , -1.2942556 ,  1.460731  ,  1.5370991 ,\n",
       "        0.12382546, -0.7660545 ,  0.0203582 ,  1.5519485 ,  0.53501385,\n",
       "       -0.10812283, -0.71096265,  1.3053322 ,  0.74956834, -0.497594  ,\n",
       "       -1.996007  , -0.4675281 ,  0.8195403 ,  0.25255477,  0.69587386,\n",
       "        0.2059978 , -1.0590478 , -0.0252887 , -1.0654197 , -1.5736651 ,\n",
       "       -0.38035017, -0.1822967 ,  1.1218579 ,  0.8258666 , -1.8896152 ,\n",
       "        0.39498073, -0.9581027 ,  1.899848  ,  1.1314198 , -0.56170076,\n",
       "        0.6592405 , -0.3262694 ,  1.228478  , -1.2551991 , -0.09338605,\n",
       "       -0.2057418 , -1.1907835 , -1.228596  ,  0.4047549 ,  0.46159518,\n",
       "       -2.3879619 , -0.90432036, -0.13466093,  0.03442125,  0.42999563,\n",
       "        0.8037827 ,  0.6991118 , -0.44384262,  0.06174301, -0.0540038 ,\n",
       "       -0.65005165,  1.0439658 , -0.03476989, -0.23779428,  0.912763  ,\n",
       "        0.57141006,  1.7297009 , -0.16030145,  1.6744102 ,  0.8689058 ,\n",
       "       -0.0890677 ,  0.843259  ,  0.1323621 ,  0.32308552,  0.17377728,\n",
       "       -0.02270943,  0.2878735 ,  0.41888535, -0.6028355 , -0.2172879 ,\n",
       "        0.17358904,  1.8156443 ,  0.04552816, -0.2957493 , -0.61824596,\n",
       "       -0.11348908,  1.4219646 , -1.3824093 ,  1.6455617 , -0.12137389,\n",
       "       -0.03010589, -0.30552977,  0.4264847 , -1.0983883 ,  0.48054683,\n",
       "       -1.2118782 , -0.53240407,  0.32110298, -0.4920868 , -0.4196819 ,\n",
       "       -0.18032281,  0.39877647, -0.28902566,  0.71283054, -0.21506146,\n",
       "       -0.8008071 ,  0.46747184,  1.0779564 ,  0.94477123, -1.3504604 ,\n",
       "       -1.3264567 , -0.39801705, -1.4162275 , -0.20955198,  0.7170423 ,\n",
       "        0.36211166, -1.1896739 ], dtype=float32)"
      ]
     },
     "execution_count": 31,
     "metadata": {},
     "output_type": "execute_result"
    }
   ],
   "source": [
    "embed_test"
   ]
  },
  {
   "cell_type": "code",
   "execution_count": 28,
   "metadata": {},
   "outputs": [],
   "source": [
    "X_list = dataframe['Facial_Features'].tolist()\n",
    "X = np.asarray(X_list)"
   ]
  },
  {
   "cell_type": "code",
   "execution_count": 20,
   "metadata": {},
   "outputs": [
    {
     "data": {
      "text/plain": [
       "(50, 512)"
      ]
     },
     "execution_count": 20,
     "metadata": {},
     "output_type": "execute_result"
    }
   ],
   "source": [
    "X.shape"
   ]
  },
  {
   "cell_type": "code",
   "execution_count": 21,
   "metadata": {},
   "outputs": [],
   "source": [
    "from sklearn.metrics import pairwise"
   ]
  },
  {
   "cell_type": "code",
   "execution_count": 32,
   "metadata": {},
   "outputs": [],
   "source": [
    "y = embed_test.reshape(1, 512) # 1 * 512\n",
    "\n",
    "euclidean_distance = pairwise.euclidean_distances(X, y)\n",
    "manhattan_distance = pairwise.manhattan_distances(X, y)\n",
    "cosine_similar = pairwise.cosine_similarity(X, y)"
   ]
  },
  {
   "cell_type": "code",
   "execution_count": 33,
   "metadata": {},
   "outputs": [],
   "source": [
    "data_search = dataframe.copy()\n",
    "data_search['euclidean'] = euclidean_distance\n",
    "data_search['manhattan'] = manhattan_distance\n",
    "data_search['cosine'] = cosine_similar\n"
   ]
  },
  {
   "cell_type": "code",
   "execution_count": 37,
   "metadata": {},
   "outputs": [
    {
     "data": {
      "text/html": [
       "<div>\n",
       "<style scoped>\n",
       "    .dataframe tbody tr th:only-of-type {\n",
       "        vertical-align: middle;\n",
       "    }\n",
       "\n",
       "    .dataframe tbody tr th {\n",
       "        vertical-align: top;\n",
       "    }\n",
       "\n",
       "    .dataframe thead th {\n",
       "        text-align: right;\n",
       "    }\n",
       "</style>\n",
       "<table border=\"1\" class=\"dataframe\">\n",
       "  <thead>\n",
       "    <tr style=\"text-align: right;\">\n",
       "      <th></th>\n",
       "      <th>Name</th>\n",
       "      <th>Role</th>\n",
       "      <th>Facial_Features</th>\n",
       "      <th>euclidean</th>\n",
       "      <th>manhattan</th>\n",
       "      <th>cosine</th>\n",
       "    </tr>\n",
       "  </thead>\n",
       "  <tbody>\n",
       "    <tr>\n",
       "      <th>0</th>\n",
       "      <td>Angelina Jolie</td>\n",
       "      <td>student</td>\n",
       "      <td>[-0.8410335, 1.6623635, -0.745449, -2.138221, ...</td>\n",
       "      <td>30.852697</td>\n",
       "      <td>551.656335</td>\n",
       "      <td>-0.026161</td>\n",
       "    </tr>\n",
       "    <tr>\n",
       "      <th>1</th>\n",
       "      <td>Angelina Jolie</td>\n",
       "      <td>student</td>\n",
       "      <td>[0.09012404, -0.4169108, -0.37650695, 0.424011...</td>\n",
       "      <td>30.549221</td>\n",
       "      <td>552.796066</td>\n",
       "      <td>0.014130</td>\n",
       "    </tr>\n",
       "  </tbody>\n",
       "</table>\n",
       "</div>"
      ],
      "text/plain": [
       "             Name     Role                                    Facial_Features  \\\n",
       "0  Angelina Jolie  student  [-0.8410335, 1.6623635, -0.745449, -2.138221, ...   \n",
       "1  Angelina Jolie  student  [0.09012404, -0.4169108, -0.37650695, 0.424011...   \n",
       "\n",
       "   euclidean   manhattan    cosine  \n",
       "0  30.852697  551.656335 -0.026161  \n",
       "1  30.549221  552.796066  0.014130  "
      ]
     },
     "execution_count": 37,
     "metadata": {},
     "output_type": "execute_result"
    }
   ],
   "source": [
    "data_search.head(2)"
   ]
  },
  {
   "cell_type": "code",
   "execution_count": 35,
   "metadata": {},
   "outputs": [],
   "source": [
    "import matplotlib.pyplot as plt"
   ]
  },
  {
   "cell_type": "code",
   "execution_count": 47,
   "metadata": {},
   "outputs": [
    {
     "data": {
      "image/png": "[encoded data removed]",
      "text/plain": [
       "<Figure size 1000x1600 with 2 Axes>"
      ]
     },
     "metadata": {},
     "output_type": "display_data"
    }
   ],
   "source": [
    "plt.figure(figsize=(10,16))\n",
    "plt.subplot(3, 1, 1)\n",
    "plt.plot(data_search['euclidean'])\n",
    "plt.xticks(ticks=list(range(len(data_search['euclidean']))), labels=data_search['Name'], rotation=90)\n",
    "plt.xlabel('Name of the Person')\n",
    "plt.ylabel('Euclidean')\n",
    "plt.grid()\n",
    "\n",
    "plt.subplot(3, 1, 2)\n",
    "plt.plot(data_search['manhattan'])\n",
    "plt.xticks(ticks=list(range(len(data_search['manhattan']))), labels=data_search['Name'], rotation=90)\n",
    "plt.xlabel('Name of the Person')\n",
    "plt.ylabel('Manhattan')\n",
    "plt.grid()\n",
    "\n",
    "plt.show()"
   ]
  },
  {
   "cell_type": "markdown",
   "metadata": {},
   "source": [
    "#### Identify the Person using Euclidean distance"
   ]
  },
  {
   "cell_type": "code",
   "execution_count": 48,
   "metadata": {},
   "outputs": [],
   "source": [
    "d_eq_optimal = 25"
   ]
  },
  {
   "cell_type": "code",
   "execution_count": 56,
   "metadata": {},
   "outputs": [],
   "source": [
    "datafilter = data_search.query(f'euclidean < {d_eq_optimal}')\n",
    "datafilter.reset_index(drop=True, inplace=True)\n",
    "\n",
    "if len(datafilter) > 0:\n",
    "  argmin = datafilter['euclidean'].argmin()\n",
    "  name, role = datafilter.loc[argmin][['Name', 'Role']]\n",
    "else:\n",
    "  name = 'Unknown'\n",
    "  role = 'Unknown'"
   ]
  },
  {
   "cell_type": "code",
   "execution_count": 57,
   "metadata": {},
   "outputs": [
    {
     "data": {
      "text/plain": [
       "('Chris Evans', 'student')"
      ]
     },
     "execution_count": 57,
     "metadata": {},
     "output_type": "execute_result"
    }
   ],
   "source": [
    "name, role"
   ]
  },
  {
   "cell_type": "markdown",
   "metadata": {},
   "source": [
    "#### Identify the Person using Manhattan Distance"
   ]
  },
  {
   "cell_type": "code",
   "execution_count": 60,
   "metadata": {},
   "outputs": [],
   "source": [
    "d_man_optimal = 450"
   ]
  },
  {
   "cell_type": "code",
   "execution_count": 61,
   "metadata": {},
   "outputs": [],
   "source": [
    "datafilter = data_search.query(f'manhattan < {d_man_optimal}')\n",
    "datafilter.reset_index(drop=True, inplace=True)\n",
    "\n",
    "if len(datafilter) > 0:\n",
    "  argmin = datafilter['manhattan'].argmin()\n",
    "  name_man, role_man = datafilter.loc[argmin][['Name', 'Role']]\n",
    "else:\n",
    "  name_man = 'Unknown'\n",
    "  role_man = 'Unknown'"
   ]
  },
  {
   "cell_type": "code",
   "execution_count": 62,
   "metadata": {},
   "outputs": [
    {
     "data": {
      "text/plain": [
       "('Chris Evans', 'student')"
      ]
     },
     "execution_count": 62,
     "metadata": {},
     "output_type": "execute_result"
    }
   ],
   "source": [
    "name_man, role_man"
   ]
  },
  {
   "cell_type": "markdown",
   "metadata": {},
   "source": [
    "#### Identify the Person using Cosine Similarity"
   ]
  },
  {
   "cell_type": "code",
   "execution_count": 63,
   "metadata": {},
   "outputs": [],
   "source": [
    "S_opt = 0.5"
   ]
  },
  {
   "cell_type": "code",
   "execution_count": 64,
   "metadata": {},
   "outputs": [],
   "source": [
    "datafilter = data_search.query(f'cosine < {S_opt}')\n",
    "datafilter.reset_index(drop=True, inplace=True)\n",
    "\n",
    "if len(datafilter) > 0:\n",
    "  argmax = datafilter['cosine'].argmax()\n",
    "  name_cos, role_cos = datafilter.loc[argmax][['Name', 'Role']]\n",
    "else:\n",
    "  name_cos = 'Unknown'\n",
    "  role_cos = 'Unknown'"
   ]
  },
  {
   "cell_type": "code",
   "execution_count": 65,
   "metadata": {},
   "outputs": [
    {
     "data": {
      "text/plain": [
       "('Chris Evans', 'student')"
      ]
     },
     "execution_count": 65,
     "metadata": {},
     "output_type": "execute_result"
    }
   ],
   "source": [
    "name_man, role_man"
   ]
  },
  {
   "cell_type": "markdown",
   "metadata": {},
   "source": [
    "#### Identify Multiple Person in an Image"
   ]
  },
  {
   "cell_type": "code",
   "execution_count": 66,
   "metadata": {},
   "outputs": [],
   "source": [
    "def ml_search_algorithm(dataframe, feature_column, test_vector, name_role=['Name', 'Role'], thresh = 0.5):\n",
    "  \"\"\"\n",
    "  cosine similarity base search algorithm\n",
    "  \"\"\"\n",
    "  # Step-1: take the dataframe (collection of data)\n",
    "  dataframe = dataframe.copy()\n",
    "\n",
    "  # Step-2: Index face embedding from the dataframe and covert into array\n",
    "  X_list = dataframe[feature_column].tolist()\n",
    "  x = np.asarray(X_list)\n",
    "\n",
    "  # Step-3: Cal. consine similarity\n",
    "  similar = pairwise.cosine_similarity(x, test_vector.reshape(1, -1))\n",
    "  similar_arr = np.array(similar).flatten()\n",
    "  dataframe['cosine'] = similar_arr\n",
    "\n",
    "  # Step-4: filter the data\n",
    "  data_filter = dataframe.query(f'cosine >= {thresh}')\n",
    "  if len(data_filter) > 0:\n",
    "    # Step-5: get the persone name\n",
    "    data_filter.reset_index(drop=True, inplace=True)\n",
    "    argmax = data_filter['cosine'].argmax()\n",
    "    person_name, person_role = data_filter.loc[argmax][name_role]\n",
    "  else:\n",
    "    person_name = 'Unknown'\n",
    "    person_role = 'Unknown'\n",
    "\n",
    "  return person_name, person_role\n",
    "  "
   ]
  },
  {
   "cell_type": "code",
   "execution_count": 68,
   "metadata": {},
   "outputs": [],
   "source": [
    "test_image = cv2.imread('../data/test_images/test_11.jpg')\n",
    "cv2.imshow('test image', test_image)\n",
    "cv2.waitKey(0)\n",
    "cv2.destroyAllWindows()"
   ]
  },
  {
   "cell_type": "code",
   "execution_count": 74,
   "metadata": {},
   "outputs": [],
   "source": [
    "# take the test image and apply to insight face\n",
    "results = faceapp.get(test_image)\n",
    "test_copy = test_image.copy()\n",
    "\n",
    "# use for loop and extract each embedding and pass to ml_search_algorithm\n",
    "for res in results:\n",
    "  x1, y1, x2, y2 = res['bbox'].astype(int)\n",
    "  embeddings = res['embedding']\n",
    "  person_name, person_role = ml_search_algorithm(dataframe, 'Facial_Features', test_vector=embeddings, name_role=['Name', 'Role'], thresh=0.5)\n",
    "  \n",
    "  if person_name == 'Unknown':\n",
    "    color = (0, 0, 255)\n",
    "  else:\n",
    "    color = (0, 255, 0)\n",
    "  cv2.rectangle(test_copy, (x1, y1), (x2, y2), color)\n",
    "  text_gen = person_name\n",
    "  cv2.putText(test_copy, text_gen, (x1, y1), cv2.FONT_HERSHEY_DUPLEX, 0.5, color, 2)\n",
    "\n",
    "cv2.imshow('test image', test_copy)\n",
    "cv2.waitKey()\n",
    "cv2.destroyAllWindows()"
   ]
  },
  {
   "cell_type": "markdown",
   "metadata": {},
   "source": [
    "#### Compressing dataset"
   ]
  },
  {
   "cell_type": "code",
   "execution_count": 77,
   "metadata": {},
   "outputs": [
    {
     "data": {
      "text/html": [
       "<div>\n",
       "<style scoped>\n",
       "    .dataframe tbody tr th:only-of-type {\n",
       "        vertical-align: middle;\n",
       "    }\n",
       "\n",
       "    .dataframe tbody tr th {\n",
       "        vertical-align: top;\n",
       "    }\n",
       "\n",
       "    .dataframe thead th {\n",
       "        text-align: right;\n",
       "    }\n",
       "</style>\n",
       "<table border=\"1\" class=\"dataframe\">\n",
       "  <thead>\n",
       "    <tr style=\"text-align: right;\">\n",
       "      <th></th>\n",
       "      <th>Name</th>\n",
       "      <th>Role</th>\n",
       "      <th>Facial_Features</th>\n",
       "    </tr>\n",
       "  </thead>\n",
       "  <tbody>\n",
       "    <tr>\n",
       "      <th>0</th>\n",
       "      <td>Angelina Jolie</td>\n",
       "      <td>student</td>\n",
       "      <td>[0.4324317, 1.074975, -0.12851736, -1.833421, ...</td>\n",
       "    </tr>\n",
       "    <tr>\n",
       "      <th>1</th>\n",
       "      <td>Barack Obama</td>\n",
       "      <td>teacher</td>\n",
       "      <td>[0.94846946, -0.5583677, 0.09491567, -1.279613...</td>\n",
       "    </tr>\n",
       "    <tr>\n",
       "      <th>2</th>\n",
       "      <td>Chris Evans</td>\n",
       "      <td>student</td>\n",
       "      <td>[0.72002447, -1.4682528, -0.77743137, -1.45999...</td>\n",
       "    </tr>\n",
       "    <tr>\n",
       "      <th>3</th>\n",
       "      <td>Morgan Freeman</td>\n",
       "      <td>teacher</td>\n",
       "      <td>[0.48562637, -0.61965686, -0.4072629, 1.068597...</td>\n",
       "    </tr>\n",
       "    <tr>\n",
       "      <th>4</th>\n",
       "      <td>Scarlett Johansson</td>\n",
       "      <td>student</td>\n",
       "      <td>[0.1912692, -0.48850536, -1.6902622, 0.4422732...</td>\n",
       "    </tr>\n",
       "  </tbody>\n",
       "</table>\n",
       "</div>"
      ],
      "text/plain": [
       "                 Name     Role  \\\n",
       "0      Angelina Jolie  student   \n",
       "1        Barack Obama  teacher   \n",
       "2         Chris Evans  student   \n",
       "3      Morgan Freeman  teacher   \n",
       "4  Scarlett Johansson  student   \n",
       "\n",
       "                                     Facial_Features  \n",
       "0  [0.4324317, 1.074975, -0.12851736, -1.833421, ...  \n",
       "1  [0.94846946, -0.5583677, 0.09491567, -1.279613...  \n",
       "2  [0.72002447, -1.4682528, -0.77743137, -1.45999...  \n",
       "3  [0.48562637, -0.61965686, -0.4072629, 1.068597...  \n",
       "4  [0.1912692, -0.48850536, -1.6902622, 0.4422732...  "
      ]
     },
     "execution_count": 77,
     "metadata": {},
     "output_type": "execute_result"
    }
   ],
   "source": [
    "dataframe_compress = dataframe.groupby(by=['Name', 'Role']).mean()\n",
    "dataframe_compress.reset_index(inplace=True)\n",
    "dataframe_compress"
   ]
  },
  {
   "cell_type": "markdown",
   "metadata": {},
   "source": [
    "#### Convert dataframe into array and save in numpy zip format"
   ]
  },
  {
   "cell_type": "code",
   "execution_count": 79,
   "metadata": {},
   "outputs": [],
   "source": [
    "xvalues = dataframe_compress.values"
   ]
  },
  {
   "cell_type": "code",
   "execution_count": 80,
   "metadata": {},
   "outputs": [
    {
     "data": {
      "text/plain": [
       "array(['Name', 'Role', 'Facial_Features'], dtype=object)"
      ]
     },
     "execution_count": 80,
     "metadata": {},
     "output_type": "execute_result"
    }
   ],
   "source": [
    "col_name = np.array(dataframe_compress.columns)\n",
    "col_name"
   ]
  },
  {
   "cell_type": "code",
   "execution_count": 81,
   "metadata": {},
   "outputs": [],
   "source": [
    "# Optional\n",
    "np.savez('dataframe_students_teacher.npz', xvalues, col_name)"
   ]
  }
 ],
 "metadata": {
  "kernelspec": {
   "display_name": ".venv",
   "language": "python",
   "name": "python3"
  },
  "language_info": {
   "codemirror_mode": {
    "name": "ipython",
    "version": 3
   },
   "file_extension": ".py",
   "mimetype": "text/x-python",
   "name": "python",
   "nbconvert_exporter": "python",
   "pygments_lexer": "ipython3",
   "version": "3.12.5"
  }
 },
 "nbformat": 4,
 "nbformat_minor": 2
}
