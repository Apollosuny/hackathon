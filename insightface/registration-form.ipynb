{
 "cells": [
  {
   "cell_type": "code",
   "execution_count": 14,
   "metadata": {},
   "outputs": [],
   "source": [
    "import cv2\n",
    "import numpy as np\n",
    "from insightface.app import FaceAnalysis\n",
    "import redis"
   ]
  },
  {
   "cell_type": "code",
   "execution_count": 2,
   "metadata": {},
   "outputs": [
    {
     "name": "stdout",
     "output_type": "stream",
     "text": [
      "Applied providers: ['CPUExecutionProvider'], with options: {'CPUExecutionProvider': {}}\n",
      "find model: models\\buffalo_sc\\det_500m.onnx detection [1, 3, '?', '?'] 127.5 128.0\n",
      "Applied providers: ['CPUExecutionProvider'], with options: {'CPUExecutionProvider': {}}\n",
      "find model: models\\buffalo_sc\\w600k_mbf.onnx recognition ['None', 3, 112, 112] 127.5 127.5\n",
      "set det-size: (640, 640)\n"
     ]
    }
   ],
   "source": [
    "faceapp = FaceAnalysis(name='buffalo_sc', root='', providers=['CPUExecutionProvider'])\n",
    "faceapp.prepare(ctx_id=0, det_size=(640, 640), det_thresh=0.5)"
   ]
  },
  {
   "cell_type": "code",
   "execution_count": 15,
   "metadata": {},
   "outputs": [],
   "source": [
    "hostname = \"127.0.0.1\"\n",
    "port = 6379\n",
    "r = redis.StrictRedis(hostname, port)"
   ]
  },
  {
   "cell_type": "markdown",
   "metadata": {},
   "source": [
    "#### Collect Person and Role"
   ]
  },
  {
   "cell_type": "code",
   "execution_count": 6,
   "metadata": {},
   "outputs": [
    {
     "name": "stdout",
     "output_type": "stream",
     "text": [
      "Invalid entry, try again\n",
      "Invalid entry, try again\n",
      "Invalid entry, try again\n"
     ]
    }
   ],
   "source": [
    "person_name = input('Enter your name: ')\n",
    "\n",
    "trials = 3\n",
    "for i in range(trials):\n",
    "  role = input(\"\"\"\n",
    "  Please choose\n",
    "              1. Student\n",
    "              2. Teacher\n",
    "\n",
    "              Enter number either 1 or 2\n",
    "  \"\"\")\n",
    "  if role in ('1', '2'):\n",
    "    if role == '1':\n",
    "      role = 'Student'\n",
    "    else:\n",
    "      role = 'Teacher'\n",
    "    break\n",
    "  else:\n",
    "    print('Invalid entry, try again')\n",
    "    if i == 3:\n",
    "      print('Exceeds maximum trials')\n",
    "\n",
    "key = person_name + '@' + role"
   ]
  },
  {
   "cell_type": "markdown",
   "metadata": {},
   "source": [
    "#### Collect Samples"
   ]
  },
  {
   "cell_type": "code",
   "execution_count": 10,
   "metadata": {},
   "outputs": [],
   "source": [
    "cap = cv2.VideoCapture(0)\n",
    "face_embeddings = []\n",
    "sample = 0\n",
    "while True:\n",
    "  ret, frame = cap.read()\n",
    "  if ret == False:\n",
    "    print('Unable to read camera')\n",
    "    break\n",
    "\n",
    "  # get reuslts from insightface model\n",
    "  results = faceapp.get(frame, max_num=1)\n",
    "  for res in results:\n",
    "    sample += 1\n",
    "    x1, y1, x2, y2 = res['bbox'].astype(int)\n",
    "    cv2.rectangle(frame, (x1, y1), (x2, y2), (0, 255, 0), 1)\n",
    "\n",
    "    # facial features\n",
    "    embeddings = res['embedding']\n",
    "    face_embeddings.append(embeddings)\n",
    "  \n",
    "  if sample >= 200:\n",
    "    break\n",
    "\n",
    "  cv2.imshow('frame', frame)\n",
    "  if cv2.waitKey(1) == ord('q'):\n",
    "    break\n",
    "\n",
    "cap.release()\n",
    "cv2.destroyAllWindows()"
   ]
  },
  {
   "cell_type": "markdown",
   "metadata": {},
   "source": [
    "#### Optimize Data & Save in Redis Database"
   ]
  },
  {
   "cell_type": "code",
   "execution_count": 11,
   "metadata": {},
   "outputs": [],
   "source": [
    "x_mean = np.asarray(face_embeddings).mean(axis=0)"
   ]
  },
  {
   "cell_type": "code",
   "execution_count": 12,
   "metadata": {},
   "outputs": [],
   "source": [
    "x_mean_bytes = x_mean.tobytes()"
   ]
  },
  {
   "cell_type": "code",
   "execution_count": null,
   "metadata": {},
   "outputs": [],
   "source": [
    "# save key and facial bytes into redis\n",
    "r.hset(name='academy:register', key=key, value=x_mean_bytes)"
   ]
  }
 ],
 "metadata": {
  "kernelspec": {
   "display_name": ".venv",
   "language": "python",
   "name": "python3"
  },
  "language_info": {
   "codemirror_mode": {
    "name": "ipython",
    "version": 3
   },
   "file_extension": ".py",
   "mimetype": "text/x-python",
   "name": "python",
   "nbconvert_exporter": "python",
   "pygments_lexer": "ipython3",
   "version": "3.12.5"
  }
 },
 "nbformat": 4,
 "nbformat_minor": 2
}
