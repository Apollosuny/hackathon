{
 "cells": [
  {
   "cell_type": "code",
   "execution_count": 2,
   "metadata": {},
   "outputs": [],
   "source": [
    "import numpy as np\n",
    "import pandas as pd\n",
    "import redis"
   ]
  },
  {
   "cell_type": "code",
   "execution_count": 3,
   "metadata": {},
   "outputs": [],
   "source": [
    "hostname = \"127.0.0.1\"\n",
    "port = 6379\n",
    "r = redis.StrictRedis(hostname, port)"
   ]
  },
  {
   "cell_type": "markdown",
   "metadata": {},
   "source": [
    "#### Load the data (numpy zip)"
   ]
  },
  {
   "cell_type": "code",
   "execution_count": 6,
   "metadata": {},
   "outputs": [
    {
     "data": {
      "text/html": [
       "<div>\n",
       "<style scoped>\n",
       "    .dataframe tbody tr th:only-of-type {\n",
       "        vertical-align: middle;\n",
       "    }\n",
       "\n",
       "    .dataframe tbody tr th {\n",
       "        vertical-align: top;\n",
       "    }\n",
       "\n",
       "    .dataframe thead th {\n",
       "        text-align: right;\n",
       "    }\n",
       "</style>\n",
       "<table border=\"1\" class=\"dataframe\">\n",
       "  <thead>\n",
       "    <tr style=\"text-align: right;\">\n",
       "      <th></th>\n",
       "      <th>Name</th>\n",
       "      <th>Role</th>\n",
       "      <th>Facial_Features</th>\n",
       "    </tr>\n",
       "  </thead>\n",
       "  <tbody>\n",
       "    <tr>\n",
       "      <th>0</th>\n",
       "      <td>Angelina Jolie</td>\n",
       "      <td>student</td>\n",
       "      <td>[0.4324317, 1.074975, -0.12851736, -1.833421, ...</td>\n",
       "    </tr>\n",
       "    <tr>\n",
       "      <th>1</th>\n",
       "      <td>Barack Obama</td>\n",
       "      <td>teacher</td>\n",
       "      <td>[0.94846946, -0.5583677, 0.09491567, -1.279613...</td>\n",
       "    </tr>\n",
       "    <tr>\n",
       "      <th>2</th>\n",
       "      <td>Chris Evans</td>\n",
       "      <td>student</td>\n",
       "      <td>[0.72002447, -1.4682528, -0.77743137, -1.45999...</td>\n",
       "    </tr>\n",
       "    <tr>\n",
       "      <th>3</th>\n",
       "      <td>Morgan Freeman</td>\n",
       "      <td>teacher</td>\n",
       "      <td>[0.48562637, -0.61965686, -0.4072629, 1.068597...</td>\n",
       "    </tr>\n",
       "    <tr>\n",
       "      <th>4</th>\n",
       "      <td>Scarlett Johansson</td>\n",
       "      <td>student</td>\n",
       "      <td>[0.1912692, -0.48850536, -1.6902622, 0.4422732...</td>\n",
       "    </tr>\n",
       "  </tbody>\n",
       "</table>\n",
       "</div>"
      ],
      "text/plain": [
       "                 Name     Role  \\\n",
       "0      Angelina Jolie  student   \n",
       "1        Barack Obama  teacher   \n",
       "2         Chris Evans  student   \n",
       "3      Morgan Freeman  teacher   \n",
       "4  Scarlett Johansson  student   \n",
       "\n",
       "                                     Facial_Features  \n",
       "0  [0.4324317, 1.074975, -0.12851736, -1.833421, ...  \n",
       "1  [0.94846946, -0.5583677, 0.09491567, -1.279613...  \n",
       "2  [0.72002447, -1.4682528, -0.77743137, -1.45999...  \n",
       "3  [0.48562637, -0.61965686, -0.4072629, 1.068597...  \n",
       "4  [0.1912692, -0.48850536, -1.6902622, 0.4422732...  "
      ]
     },
     "execution_count": 6,
     "metadata": {},
     "output_type": "execute_result"
    }
   ],
   "source": [
    "# To have this file, run file face-recognition-system first\n",
    "np_file = np.load('dataframe_students_teacher.npz', allow_pickle=True)\n",
    "x_values = np_file['arr_0']\n",
    "col_names = np_file['arr_1']\n",
    "\n",
    "df = pd.DataFrame(x_values, columns=col_names)\n",
    "df"
   ]
  },
  {
   "cell_type": "code",
   "execution_count": 7,
   "metadata": {},
   "outputs": [
    {
     "data": {
      "text/html": [
       "<div>\n",
       "<style scoped>\n",
       "    .dataframe tbody tr th:only-of-type {\n",
       "        vertical-align: middle;\n",
       "    }\n",
       "\n",
       "    .dataframe tbody tr th {\n",
       "        vertical-align: top;\n",
       "    }\n",
       "\n",
       "    .dataframe thead th {\n",
       "        text-align: right;\n",
       "    }\n",
       "</style>\n",
       "<table border=\"1\" class=\"dataframe\">\n",
       "  <thead>\n",
       "    <tr style=\"text-align: right;\">\n",
       "      <th></th>\n",
       "      <th>Name</th>\n",
       "      <th>Role</th>\n",
       "      <th>Facial_Features</th>\n",
       "      <th>name_role</th>\n",
       "    </tr>\n",
       "  </thead>\n",
       "  <tbody>\n",
       "    <tr>\n",
       "      <th>0</th>\n",
       "      <td>Angelina Jolie</td>\n",
       "      <td>student</td>\n",
       "      <td>[0.4324317, 1.074975, -0.12851736, -1.833421, ...</td>\n",
       "      <td>Angelina Jolie@student</td>\n",
       "    </tr>\n",
       "    <tr>\n",
       "      <th>1</th>\n",
       "      <td>Barack Obama</td>\n",
       "      <td>teacher</td>\n",
       "      <td>[0.94846946, -0.5583677, 0.09491567, -1.279613...</td>\n",
       "      <td>Barack Obama@teacher</td>\n",
       "    </tr>\n",
       "    <tr>\n",
       "      <th>2</th>\n",
       "      <td>Chris Evans</td>\n",
       "      <td>student</td>\n",
       "      <td>[0.72002447, -1.4682528, -0.77743137, -1.45999...</td>\n",
       "      <td>Chris Evans@student</td>\n",
       "    </tr>\n",
       "    <tr>\n",
       "      <th>3</th>\n",
       "      <td>Morgan Freeman</td>\n",
       "      <td>teacher</td>\n",
       "      <td>[0.48562637, -0.61965686, -0.4072629, 1.068597...</td>\n",
       "      <td>Morgan Freeman@teacher</td>\n",
       "    </tr>\n",
       "    <tr>\n",
       "      <th>4</th>\n",
       "      <td>Scarlett Johansson</td>\n",
       "      <td>student</td>\n",
       "      <td>[0.1912692, -0.48850536, -1.6902622, 0.4422732...</td>\n",
       "      <td>Scarlett Johansson@student</td>\n",
       "    </tr>\n",
       "  </tbody>\n",
       "</table>\n",
       "</div>"
      ],
      "text/plain": [
       "                 Name     Role  \\\n",
       "0      Angelina Jolie  student   \n",
       "1        Barack Obama  teacher   \n",
       "2         Chris Evans  student   \n",
       "3      Morgan Freeman  teacher   \n",
       "4  Scarlett Johansson  student   \n",
       "\n",
       "                                     Facial_Features  \\\n",
       "0  [0.4324317, 1.074975, -0.12851736, -1.833421, ...   \n",
       "1  [0.94846946, -0.5583677, 0.09491567, -1.279613...   \n",
       "2  [0.72002447, -1.4682528, -0.77743137, -1.45999...   \n",
       "3  [0.48562637, -0.61965686, -0.4072629, 1.068597...   \n",
       "4  [0.1912692, -0.48850536, -1.6902622, 0.4422732...   \n",
       "\n",
       "                    name_role  \n",
       "0      Angelina Jolie@student  \n",
       "1        Barack Obama@teacher  \n",
       "2         Chris Evans@student  \n",
       "3      Morgan Freeman@teacher  \n",
       "4  Scarlett Johansson@student  "
      ]
     },
     "execution_count": 7,
     "metadata": {},
     "output_type": "execute_result"
    }
   ],
   "source": [
    "df['name_role'] = df['Name'] + '@' + df['Role']\n",
    "df"
   ]
  },
  {
   "cell_type": "code",
   "execution_count": 9,
   "metadata": {},
   "outputs": [
    {
     "data": {
      "text/plain": [
       "5"
      ]
     },
     "execution_count": 9,
     "metadata": {},
     "output_type": "execute_result"
    }
   ],
   "source": [
    "records = df[['name_role', 'Facial_Features']].to_dict(orient='records')\n",
    "len(records)"
   ]
  },
  {
   "cell_type": "markdown",
   "metadata": {},
   "source": [
    "#### Save data in Redis"
   ]
  },
  {
   "cell_type": "code",
   "execution_count": 12,
   "metadata": {},
   "outputs": [],
   "source": [
    "for record in records:\n",
    "  name_role = record['name_role']\n",
    "  vector = record['Facial_Features']\n",
    "\n",
    "  # convert numpy array into bytes\n",
    "  vector_bytes = vector.tobytes()\n",
    "  r.hset(name='academy:register', key=name_role, value=vector_bytes)"
   ]
  }
 ],
 "metadata": {
  "kernelspec": {
   "display_name": ".venv",
   "language": "python",
   "name": "python3"
  },
  "language_info": {
   "codemirror_mode": {
    "name": "ipython",
    "version": 3
   },
   "file_extension": ".py",
   "mimetype": "text/x-python",
   "name": "python",
   "nbconvert_exporter": "python",
   "pygments_lexer": "ipython3",
   "version": "3.12.5"
  }
 },
 "nbformat": 4,
 "nbformat_minor": 2
}
